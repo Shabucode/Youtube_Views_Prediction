{
 "cells": [
  {
   "cell_type": "code",
   "execution_count": 16,
   "metadata": {},
   "outputs": [],
   "source": [
    "import numpy as np\n",
    "from sklearn.linear_model import LinearRegression\n",
    "from sklearn.ensemble import RandomForestRegressor\n",
    "# from xgboost import XGBRegressor\n",
    "from sklearn.model_selection import train_test_split\n",
    "from sklearn.metrics import mean_squared_error, r2_score\n",
    "import warnings\n",
    "warnings.filterwarnings(\"ignore\")\n",
    "import pandas as pd"
   ]
  },
  {
   "cell_type": "code",
   "execution_count": 3,
   "metadata": {},
   "outputs": [],
   "source": [
    "#Step1: Load the data\n",
    "\n",
    "df=pd.read_csv(\"XY_train.csv\")\n",
    "# df.head()"
   ]
  },
  {
   "cell_type": "code",
   "execution_count": 4,
   "metadata": {},
   "outputs": [
    {
     "name": "stdout",
     "output_type": "stream",
     "text": [
      "Shares                                66\n",
      "Comments added                        66\n",
      "Likes (vs. dislikes) (%)              66\n",
      "Average view duration                 66\n",
      "Views                                 66\n",
      "Subscribers                           66\n",
      "Impressions click-through rate (%)    66\n",
      "dtype: int64\n",
      "Shares                                float64\n",
      "Comments added                        float64\n",
      "Likes (vs. dislikes) (%)              float64\n",
      "Average view duration                  object\n",
      "Views                                 float64\n",
      "Subscribers                           float64\n",
      "Impressions click-through rate (%)    float64\n",
      "dtype: object\n"
     ]
    }
   ],
   "source": [
    "#Step 2: Data Preprocessing, train_test_split and Standardisation\n",
    "print(df.isnull().sum())\n",
    "print(df.dtypes)"
   ]
  },
  {
   "cell_type": "code",
   "execution_count": 5,
   "metadata": {},
   "outputs": [
    {
     "name": "stdout",
     "output_type": "stream",
     "text": [
      "0    572.0\n",
      "1    638.0\n",
      "2    571.0\n",
      "3    366.0\n",
      "4    452.0\n",
      "Name: Average view duration, dtype: float64\n"
     ]
    }
   ],
   "source": [
    "\n",
    "#convert the column, \"Average view duration\" to seconds using lambda function for standardisation\n",
    "df[\"Average view duration\"]=df[\"Average view duration\"].apply(lambda x: sum(int(i) * 60**idx for idx, i in enumerate(reversed(str(x).split(\":\"))))\n",
    " if isinstance(x,str) and \":\" in x else pd.to_numeric(x, errors=\"coerce\"))\n",
    "\n",
    "print(df[\"Average view duration\"].head())"
   ]
  },
  {
   "cell_type": "code",
   "execution_count": 6,
   "metadata": {},
   "outputs": [
    {
     "data": {
      "text/html": [
       "<div>\n",
       "<style scoped>\n",
       "    .dataframe tbody tr th:only-of-type {\n",
       "        vertical-align: middle;\n",
       "    }\n",
       "\n",
       "    .dataframe tbody tr th {\n",
       "        vertical-align: top;\n",
       "    }\n",
       "\n",
       "    .dataframe thead th {\n",
       "        text-align: right;\n",
       "    }\n",
       "</style>\n",
       "<table border=\"1\" class=\"dataframe\">\n",
       "  <thead>\n",
       "    <tr style=\"text-align: right;\">\n",
       "      <th></th>\n",
       "      <th>Shares</th>\n",
       "      <th>Comments added</th>\n",
       "      <th>Likes (vs. dislikes) (%)</th>\n",
       "      <th>Average view duration</th>\n",
       "      <th>Views</th>\n",
       "      <th>Subscribers</th>\n",
       "      <th>Impressions click-through rate (%)</th>\n",
       "    </tr>\n",
       "  </thead>\n",
       "  <tbody>\n",
       "    <tr>\n",
       "      <th>0</th>\n",
       "      <td>2035.0</td>\n",
       "      <td>1578.0</td>\n",
       "      <td>97.95</td>\n",
       "      <td>572.0</td>\n",
       "      <td>4319500.0</td>\n",
       "      <td>3574.0</td>\n",
       "      <td>4.66</td>\n",
       "    </tr>\n",
       "    <tr>\n",
       "      <th>1</th>\n",
       "      <td>1070.0</td>\n",
       "      <td>1878.0</td>\n",
       "      <td>97.92</td>\n",
       "      <td>638.0</td>\n",
       "      <td>2522030.0</td>\n",
       "      <td>4845.0</td>\n",
       "      <td>5.14</td>\n",
       "    </tr>\n",
       "    <tr>\n",
       "      <th>2</th>\n",
       "      <td>1375.0</td>\n",
       "      <td>4314.0</td>\n",
       "      <td>97.54</td>\n",
       "      <td>571.0</td>\n",
       "      <td>3564849.0</td>\n",
       "      <td>8505.0</td>\n",
       "      <td>7.00</td>\n",
       "    </tr>\n",
       "    <tr>\n",
       "      <th>3</th>\n",
       "      <td>420.0</td>\n",
       "      <td>502.0</td>\n",
       "      <td>98.34</td>\n",
       "      <td>366.0</td>\n",
       "      <td>1148850.0</td>\n",
       "      <td>513.0</td>\n",
       "      <td>7.27</td>\n",
       "    </tr>\n",
       "    <tr>\n",
       "      <th>4</th>\n",
       "      <td>982.0</td>\n",
       "      <td>977.0</td>\n",
       "      <td>97.43</td>\n",
       "      <td>452.0</td>\n",
       "      <td>1559413.0</td>\n",
       "      <td>3865.0</td>\n",
       "      <td>5.08</td>\n",
       "    </tr>\n",
       "  </tbody>\n",
       "</table>\n",
       "</div>"
      ],
      "text/plain": [
       "   Shares  Comments added  Likes (vs. dislikes) (%)  Average view duration  \\\n",
       "0  2035.0          1578.0                     97.95                  572.0   \n",
       "1  1070.0          1878.0                     97.92                  638.0   \n",
       "2  1375.0          4314.0                     97.54                  571.0   \n",
       "3   420.0           502.0                     98.34                  366.0   \n",
       "4   982.0           977.0                     97.43                  452.0   \n",
       "\n",
       "       Views  Subscribers  Impressions click-through rate (%)  \n",
       "0  4319500.0       3574.0                                4.66  \n",
       "1  2522030.0       4845.0                                5.14  \n",
       "2  3564849.0       8505.0                                7.00  \n",
       "3  1148850.0        513.0                                7.27  \n",
       "4  1559413.0       3865.0                                5.08  "
      ]
     },
     "execution_count": 6,
     "metadata": {},
     "output_type": "execute_result"
    }
   ],
   "source": [
    "df.head()"
   ]
  },
  {
   "cell_type": "code",
   "execution_count": 8,
   "metadata": {},
   "outputs": [
    {
     "data": {
      "text/html": [
       "<div>\n",
       "<style scoped>\n",
       "    .dataframe tbody tr th:only-of-type {\n",
       "        vertical-align: middle;\n",
       "    }\n",
       "\n",
       "    .dataframe tbody tr th {\n",
       "        vertical-align: top;\n",
       "    }\n",
       "\n",
       "    .dataframe thead th {\n",
       "        text-align: right;\n",
       "    }\n",
       "</style>\n",
       "<table border=\"1\" class=\"dataframe\">\n",
       "  <thead>\n",
       "    <tr style=\"text-align: right;\">\n",
       "      <th></th>\n",
       "      <th>Shares</th>\n",
       "      <th>Comments added</th>\n",
       "      <th>Likes (vs. dislikes) (%)</th>\n",
       "      <th>Average view duration</th>\n",
       "      <th>Views</th>\n",
       "      <th>Subscribers</th>\n",
       "      <th>Impressions click-through rate (%)</th>\n",
       "    </tr>\n",
       "  </thead>\n",
       "  <tbody>\n",
       "    <tr>\n",
       "      <th>count</th>\n",
       "      <td>495.000000</td>\n",
       "      <td>495.000000</td>\n",
       "      <td>495.000000</td>\n",
       "      <td>495.000000</td>\n",
       "      <td>4.950000e+02</td>\n",
       "      <td>495.000000</td>\n",
       "      <td>495.000000</td>\n",
       "    </tr>\n",
       "    <tr>\n",
       "      <th>mean</th>\n",
       "      <td>2972.510490</td>\n",
       "      <td>1814.564103</td>\n",
       "      <td>97.701166</td>\n",
       "      <td>549.104895</td>\n",
       "      <td>3.463973e+06</td>\n",
       "      <td>8346.899767</td>\n",
       "      <td>5.590396</td>\n",
       "    </tr>\n",
       "    <tr>\n",
       "      <th>std</th>\n",
       "      <td>6770.974615</td>\n",
       "      <td>1510.172410</td>\n",
       "      <td>0.844893</td>\n",
       "      <td>132.573609</td>\n",
       "      <td>2.999865e+06</td>\n",
       "      <td>11923.696976</td>\n",
       "      <td>1.035558</td>\n",
       "    </tr>\n",
       "    <tr>\n",
       "      <th>min</th>\n",
       "      <td>203.000000</td>\n",
       "      <td>187.000000</td>\n",
       "      <td>91.330000</td>\n",
       "      <td>218.000000</td>\n",
       "      <td>1.033484e+06</td>\n",
       "      <td>341.000000</td>\n",
       "      <td>2.620000</td>\n",
       "    </tr>\n",
       "    <tr>\n",
       "      <th>25%</th>\n",
       "      <td>958.500000</td>\n",
       "      <td>814.500000</td>\n",
       "      <td>97.445000</td>\n",
       "      <td>466.000000</td>\n",
       "      <td>1.676446e+06</td>\n",
       "      <td>2327.000000</td>\n",
       "      <td>4.955000</td>\n",
       "    </tr>\n",
       "    <tr>\n",
       "      <th>50%</th>\n",
       "      <td>1871.000000</td>\n",
       "      <td>1486.000000</td>\n",
       "      <td>97.750000</td>\n",
       "      <td>549.104895</td>\n",
       "      <td>2.634122e+06</td>\n",
       "      <td>5033.000000</td>\n",
       "      <td>5.590396</td>\n",
       "    </tr>\n",
       "    <tr>\n",
       "      <th>75%</th>\n",
       "      <td>2972.510490</td>\n",
       "      <td>1968.000000</td>\n",
       "      <td>98.200000</td>\n",
       "      <td>625.500000</td>\n",
       "      <td>3.582543e+06</td>\n",
       "      <td>8346.899767</td>\n",
       "      <td>6.095000</td>\n",
       "    </tr>\n",
       "    <tr>\n",
       "      <th>max</th>\n",
       "      <td>106414.000000</td>\n",
       "      <td>9109.000000</td>\n",
       "      <td>99.120000</td>\n",
       "      <td>1088.000000</td>\n",
       "      <td>2.803736e+07</td>\n",
       "      <td>120906.000000</td>\n",
       "      <td>10.420000</td>\n",
       "    </tr>\n",
       "  </tbody>\n",
       "</table>\n",
       "</div>"
      ],
      "text/plain": [
       "              Shares  Comments added  Likes (vs. dislikes) (%)  \\\n",
       "count     495.000000      495.000000                495.000000   \n",
       "mean     2972.510490     1814.564103                 97.701166   \n",
       "std      6770.974615     1510.172410                  0.844893   \n",
       "min       203.000000      187.000000                 91.330000   \n",
       "25%       958.500000      814.500000                 97.445000   \n",
       "50%      1871.000000     1486.000000                 97.750000   \n",
       "75%      2972.510490     1968.000000                 98.200000   \n",
       "max    106414.000000     9109.000000                 99.120000   \n",
       "\n",
       "       Average view duration         Views    Subscribers  \\\n",
       "count             495.000000  4.950000e+02     495.000000   \n",
       "mean              549.104895  3.463973e+06    8346.899767   \n",
       "std               132.573609  2.999865e+06   11923.696976   \n",
       "min               218.000000  1.033484e+06     341.000000   \n",
       "25%               466.000000  1.676446e+06    2327.000000   \n",
       "50%               549.104895  2.634122e+06    5033.000000   \n",
       "75%               625.500000  3.582543e+06    8346.899767   \n",
       "max              1088.000000  2.803736e+07  120906.000000   \n",
       "\n",
       "       Impressions click-through rate (%)  \n",
       "count                          495.000000  \n",
       "mean                             5.590396  \n",
       "std                              1.035558  \n",
       "min                              2.620000  \n",
       "25%                              4.955000  \n",
       "50%                              5.590396  \n",
       "75%                              6.095000  \n",
       "max                             10.420000  "
      ]
     },
     "execution_count": 8,
     "metadata": {},
     "output_type": "execute_result"
    }
   ],
   "source": [
    "df.describe()"
   ]
  },
  {
   "cell_type": "code",
   "execution_count": 7,
   "metadata": {},
   "outputs": [],
   "source": [
    "#Handle Missing values\n",
    "#fill the missing values with mean\n",
    "df.fillna(df.mean(), inplace=True)"
   ]
  },
  {
   "cell_type": "code",
   "execution_count": 9,
   "metadata": {},
   "outputs": [],
   "source": [
    "#Seperate the dependent values and independent values\n",
    "X=df.drop(columns=[\"Views\"]) #independent variable-features\n",
    "y=df[\"Views\"] #dependent variable - predictions \"Views\""
   ]
  },
  {
   "cell_type": "code",
   "execution_count": 10,
   "metadata": {},
   "outputs": [
    {
     "name": "stdout",
     "output_type": "stream",
     "text": [
      "(495, 6)\n",
      "(495,)\n"
     ]
    }
   ],
   "source": [
    "print(X.shape)  \n",
    "print(y.shape) "
   ]
  },
  {
   "cell_type": "code",
   "execution_count": 11,
   "metadata": {},
   "outputs": [],
   "source": [
    "X_train, X_test, y_train, y_test = train_test_split(X,y,test_size=0.2, random_state=42) #train_test_split"
   ]
  },
  {
   "cell_type": "code",
   "execution_count": 12,
   "metadata": {},
   "outputs": [],
   "source": [
    "#As the features are in different scales, using standard scalar for standardisation\n",
    "from sklearn.preprocessing import StandardScaler\n",
    "scaler=StandardScaler()\n",
    "X_train=scaler.fit_transform(X_train)\n",
    "X_test=scaler.fit_transform(X_test)\n"
   ]
  },
  {
   "cell_type": "code",
   "execution_count": 15,
   "metadata": {},
   "outputs": [],
   "source": [
    "#Step 3: #defining the models with parameters, train and log\n",
    "\n",
    "import xgboost as xgb\n",
    "models = [\n",
    "    (\n",
    "        \"Linear Regression\",  \n",
    "        {\"fit_intercept\": True},\n",
    "        LinearRegression(),\n",
    "        (X_train, y_train),\n",
    "        (X_test, y_test)\n",
    "    ),\n",
    "    (\n",
    "        \"Random Forest\", \n",
    "        {\"n_estimators\": 30, \"max_depth\": 3},\n",
    "        RandomForestRegressor(), \n",
    "        (X_train, y_train),\n",
    "        (X_test, y_test)\n",
    "    ),\n",
    "    (\n",
    "        \"XGBRegressor\",\n",
    "        {\"use_label_encoder\": False, \"eval_metric\": 'logloss'},\n",
    "        xgb.XGBRegressor(random_state=42),\n",
    "        (X_train, y_train),\n",
    "        (X_test, y_test)\n",
    "    )\n",
    "]"
   ]
  },
  {
   "cell_type": "code",
   "execution_count": null,
   "metadata": {},
   "outputs": [
    {
     "name": "stdout",
     "output_type": "stream",
     "text": [
      "Linear Regression -MSE: 2578256191028.136, R2: 0.7819823786293159\n",
      "Random Forest -MSE: 2334613745457.612, R2: 0.8025848100839805\n",
      "XGBRegressor -MSE: 3059298371068.8853, R2: 0.7413054000434015\n"
     ]
    }
   ],
   "source": [
    "reports = []\n",
    "\n",
    "for model_name, params, model, train_set, test_set in models:\n",
    "    X_train = train_set[0]\n",
    "    y_train = train_set[1]\n",
    "    X_test = test_set[0]\n",
    "    y_test = test_set[1]\n",
    "\n",
    "    model.set_params(**params)\n",
    "    model.fit(X_train, y_train)\n",
    "    y_pred = model.predict(X_test)\n",
    "\n",
    "    mse = mean_squared_error(y_test, y_pred)\n",
    "    r2 = r2_score(y_test, y_pred)\n",
    "\n",
    "    #create report dictionary\n",
    "    report = {\n",
    "        \"model\": model_name,\n",
    "        \"mean_squared_error\": mse,\n",
    "        \"r2_score\": r2        \n",
    "    }\n",
    "    \n",
    "    #append the report to reports list\n",
    "    reports.append(report)\n",
    "\n",
    "for report in reports:\n",
    "    print(f\"{report['model']} -MSE: {report['mean_squared_error']}, R2: {report['r2_score']}\")\n",
    "    "
   ]
  },
  {
   "cell_type": "code",
   "execution_count": 21,
   "metadata": {},
   "outputs": [],
   "source": [
    "#step 4: Log the models and results with mlflow to track the model performance and find the best model\n",
    "import mlflow\n",
    "import mlflow.sklearn\n",
    "import mlflow.xgboost"
   ]
  },
  {
   "cell_type": "code",
   "execution_count": 24,
   "metadata": {},
   "outputs": [
    {
     "name": "stderr",
     "output_type": "stream",
     "text": [
      "2025/02/05 13:43:00 WARNING mlflow.models.model: Model logged without a signature and input example. Please set `input_example` parameter when logging the model to auto infer the model signature.\n"
     ]
    },
    {
     "name": "stdout",
     "output_type": "stream",
     "text": [
      "🏃 View run Linear Regression at: http://localhost:5000/#/experiments/162614338943334033/runs/4ea5dd5e9b474f478f1dcb3db762404b\n",
      "🧪 View experiment at: http://localhost:5000/#/experiments/162614338943334033\n"
     ]
    },
    {
     "name": "stderr",
     "output_type": "stream",
     "text": [
      "2025/02/05 13:43:03 WARNING mlflow.models.model: Model logged without a signature and input example. Please set `input_example` parameter when logging the model to auto infer the model signature.\n"
     ]
    },
    {
     "name": "stdout",
     "output_type": "stream",
     "text": [
      "🏃 View run Random Forest at: http://localhost:5000/#/experiments/162614338943334033/runs/ef850bbec2354b9abdd913ffb0c18e57\n",
      "🧪 View experiment at: http://localhost:5000/#/experiments/162614338943334033\n"
     ]
    },
    {
     "name": "stderr",
     "output_type": "stream",
     "text": [
      "2025/02/05 13:43:06 WARNING mlflow.utils.environment: Encountered an unexpected error while inferring pip requirements (model URI: C:\\Users\\shabn\\AppData\\Local\\Temp\\tmp2b9ei1ze\\model, flavor: xgboost). Fall back to return ['xgboost==2.1.3']. Set logging level to DEBUG to see the full traceback. \n",
      "2025/02/05 13:43:06 WARNING mlflow.models.model: Model logged without a signature and input example. Please set `input_example` parameter when logging the model to auto infer the model signature.\n"
     ]
    },
    {
     "name": "stdout",
     "output_type": "stream",
     "text": [
      "🏃 View run XGBRegressor at: http://localhost:5000/#/experiments/162614338943334033/runs/91701424a40f4e34b500ca5e9caf634d\n",
      "🧪 View experiment at: http://localhost:5000/#/experiments/162614338943334033\n"
     ]
    }
   ],
   "source": [
    "#Initialize the MLflow\n",
    "mlflow.set_experiment(\"Youtube_views_prediction\")\n",
    "mlflow.set_tracking_uri(\"http://localhost:5000\")\n",
    "\n",
    "for i, element in enumerate(models):\n",
    "    model_name = element[0]\n",
    "    params = element[1]\n",
    "    model = element[2]\n",
    "    report = reports[i]\n",
    "\n",
    "    with mlflow.start_run(run_name=model_name):\n",
    "        mlflow.log_params(params)\n",
    "        mlflow.log_metrics({\n",
    "            \"mean_squared_error\": report[\"mean_squared_error\"],\n",
    "            \"r2_score\": report[\"r2_score\"]\n",
    "        })\n",
    "\n",
    "        if model_name == \"XGBRegressor\":\n",
    "            mlflow.xgboost.log_model(model, \"model\")\n",
    "        else:\n",
    "            mlflow.sklearn.log_model(model, \"model\")"
   ]
  },
  {
   "cell_type": "code",
   "execution_count": 25,
   "metadata": {},
   "outputs": [
    {
     "data": {
      "text/html": [
       "<div>\n",
       "<style scoped>\n",
       "    .dataframe tbody tr th:only-of-type {\n",
       "        vertical-align: middle;\n",
       "    }\n",
       "\n",
       "    .dataframe tbody tr th {\n",
       "        vertical-align: top;\n",
       "    }\n",
       "\n",
       "    .dataframe thead th {\n",
       "        text-align: right;\n",
       "    }\n",
       "</style>\n",
       "<table border=\"1\" class=\"dataframe\">\n",
       "  <thead>\n",
       "    <tr style=\"text-align: right;\">\n",
       "      <th></th>\n",
       "      <th>Shares</th>\n",
       "      <th>Comments added</th>\n",
       "      <th>Likes (vs. dislikes) (%)</th>\n",
       "      <th>Average view duration</th>\n",
       "      <th>Subscribers</th>\n",
       "      <th>Impressions click-through rate (%)</th>\n",
       "      <th>Views prediction</th>\n",
       "    </tr>\n",
       "  </thead>\n",
       "  <tbody>\n",
       "    <tr>\n",
       "      <th>0</th>\n",
       "      <td>27558</td>\n",
       "      <td>3243</td>\n",
       "      <td>95.66</td>\n",
       "      <td>00:11:10</td>\n",
       "      <td>28895</td>\n",
       "      <td>4.84</td>\n",
       "      <td>NaN</td>\n",
       "    </tr>\n",
       "    <tr>\n",
       "      <th>1</th>\n",
       "      <td>575</td>\n",
       "      <td>942</td>\n",
       "      <td>98.10</td>\n",
       "      <td>00:10:59</td>\n",
       "      <td>879</td>\n",
       "      <td>5.99</td>\n",
       "      <td>NaN</td>\n",
       "    </tr>\n",
       "    <tr>\n",
       "      <th>2</th>\n",
       "      <td>5362</td>\n",
       "      <td>1903</td>\n",
       "      <td>95.28</td>\n",
       "      <td>00:06:27</td>\n",
       "      <td>10362</td>\n",
       "      <td>5.98</td>\n",
       "      <td>NaN</td>\n",
       "    </tr>\n",
       "    <tr>\n",
       "      <th>3</th>\n",
       "      <td>1231</td>\n",
       "      <td>465</td>\n",
       "      <td>93.65</td>\n",
       "      <td>00:10:26</td>\n",
       "      <td>3119</td>\n",
       "      <td>5.35</td>\n",
       "      <td>NaN</td>\n",
       "    </tr>\n",
       "    <tr>\n",
       "      <th>4</th>\n",
       "      <td>4115</td>\n",
       "      <td>2126</td>\n",
       "      <td>97.16</td>\n",
       "      <td>00:13:42</td>\n",
       "      <td>10311</td>\n",
       "      <td>3.55</td>\n",
       "      <td>NaN</td>\n",
       "    </tr>\n",
       "  </tbody>\n",
       "</table>\n",
       "</div>"
      ],
      "text/plain": [
       "   Shares  Comments added  Likes (vs. dislikes) (%) Average view duration  \\\n",
       "0   27558            3243                     95.66              00:11:10   \n",
       "1     575             942                     98.10              00:10:59   \n",
       "2    5362            1903                     95.28              00:06:27   \n",
       "3    1231             465                     93.65              00:10:26   \n",
       "4    4115            2126                     97.16              00:13:42   \n",
       "\n",
       "   Subscribers  Impressions click-through rate (%)  Views prediction  \n",
       "0        28895                                4.84               NaN  \n",
       "1          879                                5.99               NaN  \n",
       "2        10362                                5.98               NaN  \n",
       "3         3119                                5.35               NaN  \n",
       "4        10311                                3.55               NaN  "
      ]
     },
     "execution_count": 25,
     "metadata": {},
     "output_type": "execute_result"
    }
   ],
   "source": [
    "#Step 5: Inferencing the X_test with the best model, which is RandomForest iin our case\n",
    "test_df = pd.read_csv(\"X_test.csv\") #load the X_test\n",
    "test_df.head()"
   ]
  },
  {
   "cell_type": "code",
   "execution_count": 29,
   "metadata": {},
   "outputs": [
    {
     "name": "stdout",
     "output_type": "stream",
     "text": [
      "0    670\n",
      "1    659\n",
      "2    387\n",
      "3    626\n",
      "4    822\n",
      "Name: Average view duration, dtype: int64\n"
     ]
    }
   ],
   "source": [
    "#convert the column, \"Average view duration\" to seconds using lambda function for standardisation\n",
    "test_df[\"Average view duration\"]=test_df[\"Average view duration\"].apply(lambda x: sum(int(i) * 60**idx for idx, i in enumerate(reversed(str(x).split(\":\"))))\n",
    " if isinstance(x,str) and \":\" in x else pd.to_numeric(x, errors=\"coerce\"))\n",
    "\n",
    "print(test_df[\"Average view duration\"].head())"
   ]
  },
  {
   "cell_type": "code",
   "execution_count": null,
   "metadata": {},
   "outputs": [],
   "source": [
    "#Seperate the dependent values and independent values\n",
    "X=test_df.drop(columns=[\"Views prediction\"]) #independent variable-features\n",
    "y=test_df[\"Views prediction\"] #dependent variable - Views prediction for test set"
   ]
  },
  {
   "cell_type": "code",
   "execution_count": 32,
   "metadata": {},
   "outputs": [],
   "source": [
    "X=scaler.fit_transform(X) #standardisation"
   ]
  },
  {
   "cell_type": "code",
   "execution_count": 33,
   "metadata": {},
   "outputs": [
    {
     "name": "stdout",
     "output_type": "stream",
     "text": [
      "(71, 6)\n",
      "(71,)\n"
     ]
    }
   ],
   "source": [
    "print(X.shape) #print the sizeof the test set"
   ]
  },
  {
   "cell_type": "code",
   "execution_count": 36,
   "metadata": {},
   "outputs": [],
   "source": [
    "#load the Random Forest model from mlflow artifacts\n",
    "model_artifact_path = \"file:///f:/Be_Amazed_Projects/Task_1/mlruns/162614338943334033/ef850bbec2354b9abdd913ffb0c18e57/artifacts/model\"\n",
    "\n",
    "rf_model = mlflow.sklearn.load_model(model_artifact_path)\n"
   ]
  },
  {
   "cell_type": "code",
   "execution_count": 37,
   "metadata": {},
   "outputs": [
    {
     "name": "stdout",
     "output_type": "stream",
     "text": [
      "    Shares  Comments added  Likes (vs. dislikes) (%)  Average view duration  \\\n",
      "0    27558            3243                     95.66                    670   \n",
      "1      575             942                     98.10                    659   \n",
      "2     5362            1903                     95.28                    387   \n",
      "3     1231             465                     93.65                    626   \n",
      "4     4115            2126                     97.16                    822   \n",
      "..     ...             ...                       ...                    ...   \n",
      "66     587            1895                     98.66                    428   \n",
      "67     922             824                     98.28                    457   \n",
      "68    1141            2196                     97.93                    766   \n",
      "69    1292             576                     98.39                    598   \n",
      "70    1427            3026                     97.50                    582   \n",
      "\n",
      "    Subscribers  Impressions click-through rate (%)  Views prediction  \n",
      "0         28895                                4.84      8.449582e+06  \n",
      "1           879                                5.99      1.659426e+06  \n",
      "2         10362                                5.98      3.595306e+06  \n",
      "3          3119                                5.35      1.682669e+06  \n",
      "4         10311                                3.55      3.411915e+06  \n",
      "..          ...                                 ...               ...  \n",
      "66         4277                                8.73      2.350844e+06  \n",
      "67         2621                                4.74      1.682669e+06  \n",
      "68         5965                                5.10      2.666352e+06  \n",
      "69          939                                5.76      1.659426e+06  \n",
      "70        20726                                5.15      5.891061e+06  \n",
      "\n",
      "[71 rows x 7 columns]\n"
     ]
    }
   ],
   "source": [
    "# make predictions using the best model\n",
    "y_pred = rf_model.predict(X)\n",
    "\n",
    "# Add the predictions to the test data\n",
    "test_df['Views prediction'] = y_pred\n",
    "\n",
    "#save and display the predictions\n",
    "test_df.to_csv(\"predicted_test_results.csv\", index=False)\n",
    "print(test_df)"
   ]
  }
 ],
 "metadata": {
  "kernelspec": {
   "display_name": "Python 3",
   "language": "python",
   "name": "python3"
  },
  "language_info": {
   "codemirror_mode": {
    "name": "ipython",
    "version": 3
   },
   "file_extension": ".py",
   "mimetype": "text/x-python",
   "name": "python",
   "nbconvert_exporter": "python",
   "pygments_lexer": "ipython3",
   "version": "3.11.0"
  }
 },
 "nbformat": 4,
 "nbformat_minor": 2
}
